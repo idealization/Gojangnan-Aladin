{
 "cells": [
  {
   "cell_type": "code",
   "execution_count": 1,
   "metadata": {
    "id": "q97kC7CJcEWw"
   },
   "outputs": [],
   "source": [
    "from sklearn.decomposition import TruncatedSVD\n",
    "from scipy.sparse.linalg import svds\n",
    "\n",
    "import matplotlib.pyplot as plt\n",
    "import seaborn as sns\n",
    "import pandas as pd\n",
    "import numpy as np\n",
    "import warnings\n",
    "warnings.filterwarnings(\"ignore\")\n",
    "import time"
   ]
  },
  {
   "cell_type": "code",
   "execution_count": 2,
   "metadata": {},
   "outputs": [],
   "source": [
    "start_time = time.time()\n"
   ]
  },
  {
   "cell_type": "code",
   "execution_count": 3,
   "metadata": {
    "id": "KMpcvdNbcGhx"
   },
   "outputs": [],
   "source": [
    "log_data = pd.read_csv('ratings.csv')\n",
    "book_data = pd.read_csv('books.csv')"
   ]
  },
  {
   "cell_type": "code",
   "execution_count": 4,
   "metadata": {
    "colab": {
     "base_uri": "https://localhost:8080/",
     "height": 206
    },
    "id": "P8M7TyC-ysfj",
    "outputId": "b9e9ae65-753b-463f-87dd-b14defea3dee"
   },
   "outputs": [
    {
     "data": {
      "text/html": [
       "<div>\n",
       "<style scoped>\n",
       "    .dataframe tbody tr th:only-of-type {\n",
       "        vertical-align: middle;\n",
       "    }\n",
       "\n",
       "    .dataframe tbody tr th {\n",
       "        vertical-align: top;\n",
       "    }\n",
       "\n",
       "    .dataframe thead th {\n",
       "        text-align: right;\n",
       "    }\n",
       "</style>\n",
       "<table border=\"1\" class=\"dataframe\">\n",
       "  <thead>\n",
       "    <tr style=\"text-align: right;\">\n",
       "      <th></th>\n",
       "      <th>book_id</th>\n",
       "      <th>user_id</th>\n",
       "      <th>rating</th>\n",
       "    </tr>\n",
       "  </thead>\n",
       "  <tbody>\n",
       "    <tr>\n",
       "      <th>0</th>\n",
       "      <td>1</td>\n",
       "      <td>314</td>\n",
       "      <td>5</td>\n",
       "    </tr>\n",
       "    <tr>\n",
       "      <th>1</th>\n",
       "      <td>1</td>\n",
       "      <td>439</td>\n",
       "      <td>3</td>\n",
       "    </tr>\n",
       "    <tr>\n",
       "      <th>2</th>\n",
       "      <td>1</td>\n",
       "      <td>588</td>\n",
       "      <td>5</td>\n",
       "    </tr>\n",
       "    <tr>\n",
       "      <th>3</th>\n",
       "      <td>1</td>\n",
       "      <td>1169</td>\n",
       "      <td>4</td>\n",
       "    </tr>\n",
       "    <tr>\n",
       "      <th>4</th>\n",
       "      <td>1</td>\n",
       "      <td>1185</td>\n",
       "      <td>4</td>\n",
       "    </tr>\n",
       "  </tbody>\n",
       "</table>\n",
       "</div>"
      ],
      "text/plain": [
       "   book_id  user_id  rating\n",
       "0        1      314       5\n",
       "1        1      439       3\n",
       "2        1      588       5\n",
       "3        1     1169       4\n",
       "4        1     1185       4"
      ]
     },
     "execution_count": 4,
     "metadata": {},
     "output_type": "execute_result"
    }
   ],
   "source": [
    "log_data.head()"
   ]
  },
  {
   "cell_type": "code",
   "execution_count": null,
   "metadata": {},
   "outputs": [],
   "source": []
  },
  {
   "cell_type": "code",
   "execution_count": 5,
   "metadata": {},
   "outputs": [
    {
     "data": {
      "text/html": [
       "<div>\n",
       "<style scoped>\n",
       "    .dataframe tbody tr th:only-of-type {\n",
       "        vertical-align: middle;\n",
       "    }\n",
       "\n",
       "    .dataframe tbody tr th {\n",
       "        vertical-align: top;\n",
       "    }\n",
       "\n",
       "    .dataframe thead th {\n",
       "        text-align: right;\n",
       "    }\n",
       "</style>\n",
       "<table border=\"1\" class=\"dataframe\">\n",
       "  <thead>\n",
       "    <tr style=\"text-align: right;\">\n",
       "      <th></th>\n",
       "      <th>book_id</th>\n",
       "      <th>authors</th>\n",
       "      <th>title</th>\n",
       "      <th>small_image_url</th>\n",
       "    </tr>\n",
       "  </thead>\n",
       "  <tbody>\n",
       "    <tr>\n",
       "      <th>0</th>\n",
       "      <td>2767052</td>\n",
       "      <td>Suzanne Collins</td>\n",
       "      <td>The Hunger Games (The Hunger Games, #1)</td>\n",
       "      <td>https://images.gr-assets.com/books/1447303603s...</td>\n",
       "    </tr>\n",
       "    <tr>\n",
       "      <th>1</th>\n",
       "      <td>3</td>\n",
       "      <td>J.K. Rowling, Mary GrandPré</td>\n",
       "      <td>Harry Potter and the Sorcerer's Stone (Harry P...</td>\n",
       "      <td>https://images.gr-assets.com/books/1474154022s...</td>\n",
       "    </tr>\n",
       "    <tr>\n",
       "      <th>2</th>\n",
       "      <td>41865</td>\n",
       "      <td>Stephenie Meyer</td>\n",
       "      <td>Twilight (Twilight, #1)</td>\n",
       "      <td>https://images.gr-assets.com/books/1361039443s...</td>\n",
       "    </tr>\n",
       "    <tr>\n",
       "      <th>3</th>\n",
       "      <td>2657</td>\n",
       "      <td>Harper Lee</td>\n",
       "      <td>To Kill a Mockingbird</td>\n",
       "      <td>https://images.gr-assets.com/books/1361975680s...</td>\n",
       "    </tr>\n",
       "    <tr>\n",
       "      <th>4</th>\n",
       "      <td>4671</td>\n",
       "      <td>F. Scott Fitzgerald</td>\n",
       "      <td>The Great Gatsby</td>\n",
       "      <td>https://images.gr-assets.com/books/1490528560s...</td>\n",
       "    </tr>\n",
       "  </tbody>\n",
       "</table>\n",
       "</div>"
      ],
      "text/plain": [
       "   book_id                      authors  \\\n",
       "0  2767052              Suzanne Collins   \n",
       "1        3  J.K. Rowling, Mary GrandPré   \n",
       "2    41865              Stephenie Meyer   \n",
       "3     2657                   Harper Lee   \n",
       "4     4671          F. Scott Fitzgerald   \n",
       "\n",
       "                                               title  \\\n",
       "0            The Hunger Games (The Hunger Games, #1)   \n",
       "1  Harry Potter and the Sorcerer's Stone (Harry P...   \n",
       "2                            Twilight (Twilight, #1)   \n",
       "3                              To Kill a Mockingbird   \n",
       "4                                   The Great Gatsby   \n",
       "\n",
       "                                     small_image_url  \n",
       "0  https://images.gr-assets.com/books/1447303603s...  \n",
       "1  https://images.gr-assets.com/books/1474154022s...  \n",
       "2  https://images.gr-assets.com/books/1361039443s...  \n",
       "3  https://images.gr-assets.com/books/1361975680s...  \n",
       "4  https://images.gr-assets.com/books/1490528560s...  "
      ]
     },
     "execution_count": 5,
     "metadata": {},
     "output_type": "execute_result"
    }
   ],
   "source": [
    "book_data.drop('id', axis = 1, inplace = True)\n",
    "book_data.drop('best_book_id', axis = 1, inplace = True)\n",
    "book_data.drop('work_id', axis = 1, inplace = True)\n",
    "book_data.drop('books_count', axis = 1, inplace = True)\n",
    "book_data.drop('isbn', axis = 1, inplace = True)\n",
    "book_data.drop('isbn13', axis = 1, inplace = True)\n",
    "# book_data.drop('authors', axis = 1, inplace = True)\n",
    "book_data.drop('original_publication_year', axis = 1, inplace = True)\n",
    "book_data.drop('original_title', axis = 1, inplace = True)\n",
    "book_data.drop('language_code', axis = 1, inplace = True)\n",
    "book_data.drop('average_rating', axis = 1, inplace = True)\n",
    "book_data.drop('ratings_count', axis = 1, inplace = True)\n",
    "book_data.drop('work_ratings_count', axis = 1, inplace = True)\n",
    "book_data.drop('work_text_reviews_count', axis = 1, inplace = True)\n",
    "book_data.drop('ratings_1', axis = 1, inplace = True)\n",
    "book_data.drop('ratings_2', axis = 1, inplace = True)\n",
    "book_data.drop('ratings_3', axis = 1, inplace = True)\n",
    "book_data.drop('ratings_4', axis = 1, inplace = True)\n",
    "book_data.drop('ratings_5', axis = 1, inplace = True)\n",
    "book_data.drop('image_url', axis = 1, inplace = True)\n",
    "#book_data.drop('small_image_url', axis = 1, inplace = True)\n",
    "\n",
    "book_data.head()"
   ]
  },
  {
   "cell_type": "code",
   "execution_count": 6,
   "metadata": {
    "colab": {
     "base_uri": "https://localhost:8080/",
     "height": 206
    },
    "id": "GndhvB1Mys8y",
    "outputId": "b632b3e1-7731-479d-8561-123d14890117"
   },
   "outputs": [
    {
     "data": {
      "text/html": [
       "<div>\n",
       "<style scoped>\n",
       "    .dataframe tbody tr th:only-of-type {\n",
       "        vertical-align: middle;\n",
       "    }\n",
       "\n",
       "    .dataframe tbody tr th {\n",
       "        vertical-align: top;\n",
       "    }\n",
       "\n",
       "    .dataframe thead th {\n",
       "        text-align: right;\n",
       "    }\n",
       "</style>\n",
       "<table border=\"1\" class=\"dataframe\">\n",
       "  <thead>\n",
       "    <tr style=\"text-align: right;\">\n",
       "      <th></th>\n",
       "      <th>user_id</th>\n",
       "      <th>book_id</th>\n",
       "      <th>rating</th>\n",
       "    </tr>\n",
       "  </thead>\n",
       "  <tbody>\n",
       "    <tr>\n",
       "      <th>0</th>\n",
       "      <td>314</td>\n",
       "      <td>1</td>\n",
       "      <td>5</td>\n",
       "    </tr>\n",
       "    <tr>\n",
       "      <th>1</th>\n",
       "      <td>439</td>\n",
       "      <td>1</td>\n",
       "      <td>3</td>\n",
       "    </tr>\n",
       "    <tr>\n",
       "      <th>2</th>\n",
       "      <td>588</td>\n",
       "      <td>1</td>\n",
       "      <td>5</td>\n",
       "    </tr>\n",
       "    <tr>\n",
       "      <th>3</th>\n",
       "      <td>1169</td>\n",
       "      <td>1</td>\n",
       "      <td>4</td>\n",
       "    </tr>\n",
       "    <tr>\n",
       "      <th>4</th>\n",
       "      <td>1185</td>\n",
       "      <td>1</td>\n",
       "      <td>4</td>\n",
       "    </tr>\n",
       "  </tbody>\n",
       "</table>\n",
       "</div>"
      ],
      "text/plain": [
       "   user_id  book_id  rating\n",
       "0      314        1       5\n",
       "1      439        1       3\n",
       "2      588        1       5\n",
       "3     1169        1       4\n",
       "4     1185        1       4"
      ]
     },
     "execution_count": 6,
     "metadata": {},
     "output_type": "execute_result"
    }
   ],
   "source": [
    "log_data = log_data[['user_id', 'book_id', 'rating']]\n",
    "log_data.head()"
   ]
  },
  {
   "cell_type": "code",
   "execution_count": 7,
   "metadata": {
    "id": "WXufqkUh7GFj"
   },
   "outputs": [],
   "source": [
    "log_data=log_data.drop_duplicates(['user_id','book_id'], keep='first')"
   ]
  },
  {
   "cell_type": "code",
   "execution_count": 8,
   "metadata": {
    "colab": {
     "base_uri": "https://localhost:8080/",
     "height": 287
    },
    "id": "EVP8LL6FzeBS",
    "outputId": "487887a3-0a95-49d3-ee74-7cfdf9023595"
   },
   "outputs": [
    {
     "data": {
      "text/html": [
       "<div>\n",
       "<style scoped>\n",
       "    .dataframe tbody tr th:only-of-type {\n",
       "        vertical-align: middle;\n",
       "    }\n",
       "\n",
       "    .dataframe tbody tr th {\n",
       "        vertical-align: top;\n",
       "    }\n",
       "\n",
       "    .dataframe thead th {\n",
       "        text-align: right;\n",
       "    }\n",
       "</style>\n",
       "<table border=\"1\" class=\"dataframe\">\n",
       "  <thead>\n",
       "    <tr style=\"text-align: right;\">\n",
       "      <th>book_id</th>\n",
       "      <th>1</th>\n",
       "      <th>2</th>\n",
       "      <th>3</th>\n",
       "      <th>4</th>\n",
       "      <th>5</th>\n",
       "      <th>6</th>\n",
       "      <th>7</th>\n",
       "      <th>8</th>\n",
       "      <th>9</th>\n",
       "      <th>10</th>\n",
       "      <th>...</th>\n",
       "      <th>9991</th>\n",
       "      <th>9992</th>\n",
       "      <th>9993</th>\n",
       "      <th>9994</th>\n",
       "      <th>9995</th>\n",
       "      <th>9996</th>\n",
       "      <th>9997</th>\n",
       "      <th>9998</th>\n",
       "      <th>9999</th>\n",
       "      <th>10000</th>\n",
       "    </tr>\n",
       "    <tr>\n",
       "      <th>user_id</th>\n",
       "      <th></th>\n",
       "      <th></th>\n",
       "      <th></th>\n",
       "      <th></th>\n",
       "      <th></th>\n",
       "      <th></th>\n",
       "      <th></th>\n",
       "      <th></th>\n",
       "      <th></th>\n",
       "      <th></th>\n",
       "      <th></th>\n",
       "      <th></th>\n",
       "      <th></th>\n",
       "      <th></th>\n",
       "      <th></th>\n",
       "      <th></th>\n",
       "      <th></th>\n",
       "      <th></th>\n",
       "      <th></th>\n",
       "      <th></th>\n",
       "      <th></th>\n",
       "    </tr>\n",
       "  </thead>\n",
       "  <tbody>\n",
       "    <tr>\n",
       "      <th>1</th>\n",
       "      <td>0.0</td>\n",
       "      <td>0.0</td>\n",
       "      <td>0.0</td>\n",
       "      <td>0.0</td>\n",
       "      <td>0.0</td>\n",
       "      <td>0.0</td>\n",
       "      <td>0.0</td>\n",
       "      <td>0.0</td>\n",
       "      <td>0.0</td>\n",
       "      <td>0.0</td>\n",
       "      <td>...</td>\n",
       "      <td>0.0</td>\n",
       "      <td>0.0</td>\n",
       "      <td>0.0</td>\n",
       "      <td>0.0</td>\n",
       "      <td>0.0</td>\n",
       "      <td>0.0</td>\n",
       "      <td>0.0</td>\n",
       "      <td>0.0</td>\n",
       "      <td>0.0</td>\n",
       "      <td>0.0</td>\n",
       "    </tr>\n",
       "    <tr>\n",
       "      <th>2</th>\n",
       "      <td>0.0</td>\n",
       "      <td>0.0</td>\n",
       "      <td>0.0</td>\n",
       "      <td>0.0</td>\n",
       "      <td>0.0</td>\n",
       "      <td>0.0</td>\n",
       "      <td>0.0</td>\n",
       "      <td>0.0</td>\n",
       "      <td>0.0</td>\n",
       "      <td>0.0</td>\n",
       "      <td>...</td>\n",
       "      <td>0.0</td>\n",
       "      <td>0.0</td>\n",
       "      <td>0.0</td>\n",
       "      <td>0.0</td>\n",
       "      <td>0.0</td>\n",
       "      <td>0.0</td>\n",
       "      <td>0.0</td>\n",
       "      <td>0.0</td>\n",
       "      <td>0.0</td>\n",
       "      <td>0.0</td>\n",
       "    </tr>\n",
       "    <tr>\n",
       "      <th>3</th>\n",
       "      <td>0.0</td>\n",
       "      <td>0.0</td>\n",
       "      <td>0.0</td>\n",
       "      <td>0.0</td>\n",
       "      <td>0.0</td>\n",
       "      <td>0.0</td>\n",
       "      <td>0.0</td>\n",
       "      <td>0.0</td>\n",
       "      <td>0.0</td>\n",
       "      <td>0.0</td>\n",
       "      <td>...</td>\n",
       "      <td>0.0</td>\n",
       "      <td>0.0</td>\n",
       "      <td>0.0</td>\n",
       "      <td>0.0</td>\n",
       "      <td>0.0</td>\n",
       "      <td>0.0</td>\n",
       "      <td>0.0</td>\n",
       "      <td>0.0</td>\n",
       "      <td>0.0</td>\n",
       "      <td>0.0</td>\n",
       "    </tr>\n",
       "    <tr>\n",
       "      <th>4</th>\n",
       "      <td>0.0</td>\n",
       "      <td>0.0</td>\n",
       "      <td>0.0</td>\n",
       "      <td>0.0</td>\n",
       "      <td>0.0</td>\n",
       "      <td>0.0</td>\n",
       "      <td>0.0</td>\n",
       "      <td>0.0</td>\n",
       "      <td>0.0</td>\n",
       "      <td>0.0</td>\n",
       "      <td>...</td>\n",
       "      <td>0.0</td>\n",
       "      <td>0.0</td>\n",
       "      <td>0.0</td>\n",
       "      <td>0.0</td>\n",
       "      <td>0.0</td>\n",
       "      <td>0.0</td>\n",
       "      <td>0.0</td>\n",
       "      <td>0.0</td>\n",
       "      <td>0.0</td>\n",
       "      <td>0.0</td>\n",
       "    </tr>\n",
       "    <tr>\n",
       "      <th>5</th>\n",
       "      <td>0.0</td>\n",
       "      <td>0.0</td>\n",
       "      <td>0.0</td>\n",
       "      <td>0.0</td>\n",
       "      <td>0.0</td>\n",
       "      <td>0.0</td>\n",
       "      <td>0.0</td>\n",
       "      <td>0.0</td>\n",
       "      <td>0.0</td>\n",
       "      <td>0.0</td>\n",
       "      <td>...</td>\n",
       "      <td>0.0</td>\n",
       "      <td>0.0</td>\n",
       "      <td>0.0</td>\n",
       "      <td>0.0</td>\n",
       "      <td>0.0</td>\n",
       "      <td>0.0</td>\n",
       "      <td>0.0</td>\n",
       "      <td>0.0</td>\n",
       "      <td>0.0</td>\n",
       "      <td>0.0</td>\n",
       "    </tr>\n",
       "  </tbody>\n",
       "</table>\n",
       "<p>5 rows × 10000 columns</p>\n",
       "</div>"
      ],
      "text/plain": [
       "book_id  1      2      3      4      5      6      7      8      9      10     \\\n",
       "user_id                                                                         \n",
       "1          0.0    0.0    0.0    0.0    0.0    0.0    0.0    0.0    0.0    0.0   \n",
       "2          0.0    0.0    0.0    0.0    0.0    0.0    0.0    0.0    0.0    0.0   \n",
       "3          0.0    0.0    0.0    0.0    0.0    0.0    0.0    0.0    0.0    0.0   \n",
       "4          0.0    0.0    0.0    0.0    0.0    0.0    0.0    0.0    0.0    0.0   \n",
       "5          0.0    0.0    0.0    0.0    0.0    0.0    0.0    0.0    0.0    0.0   \n",
       "\n",
       "book_id  ...  9991   9992   9993   9994   9995   9996   9997   9998   9999   \\\n",
       "user_id  ...                                                                  \n",
       "1        ...    0.0    0.0    0.0    0.0    0.0    0.0    0.0    0.0    0.0   \n",
       "2        ...    0.0    0.0    0.0    0.0    0.0    0.0    0.0    0.0    0.0   \n",
       "3        ...    0.0    0.0    0.0    0.0    0.0    0.0    0.0    0.0    0.0   \n",
       "4        ...    0.0    0.0    0.0    0.0    0.0    0.0    0.0    0.0    0.0   \n",
       "5        ...    0.0    0.0    0.0    0.0    0.0    0.0    0.0    0.0    0.0   \n",
       "\n",
       "book_id  10000  \n",
       "user_id         \n",
       "1          0.0  \n",
       "2          0.0  \n",
       "3          0.0  \n",
       "4          0.0  \n",
       "5          0.0  \n",
       "\n",
       "[5 rows x 10000 columns]"
      ]
     },
     "execution_count": 8,
     "metadata": {},
     "output_type": "execute_result"
    }
   ],
   "source": [
    "user_book_log = log_data.pivot(index = 'user_id', columns='book_id', values='rating').fillna(0)\n",
    "user_book_log.head()"
   ]
  },
  {
   "cell_type": "code",
   "execution_count": 9,
   "metadata": {
    "id": "dPIVQ7Isd5zJ"
   },
   "outputs": [],
   "source": [
    "matrix = user_book_log.values"
   ]
  },
  {
   "cell_type": "code",
   "execution_count": 10,
   "metadata": {
    "id": "WS1naXAwzxYq"
   },
   "outputs": [],
   "source": [
    "user_log_mean = np.mean(matrix, axis = 1)"
   ]
  },
  {
   "cell_type": "code",
   "execution_count": 11,
   "metadata": {
    "id": "CIby1vxh9jsV"
   },
   "outputs": [],
   "source": [
    "matrix_user_mean = matrix - user_log_mean.reshape(-1, 1)"
   ]
  },
  {
   "cell_type": "code",
   "execution_count": 12,
   "metadata": {
    "colab": {
     "base_uri": "https://localhost:8080/"
    },
    "id": "Y3WJ7LWw9p86",
    "outputId": "69a43737-c24f-40f2-dee0-26f51e76997f"
   },
   "outputs": [
    {
     "data": {
      "text/plain": [
       "array([[0., 0., 0., ..., 0., 0., 0.],\n",
       "       [0., 0., 0., ..., 0., 0., 0.],\n",
       "       [0., 0., 0., ..., 0., 0., 0.],\n",
       "       ...,\n",
       "       [0., 0., 0., ..., 0., 0., 0.],\n",
       "       [0., 0., 0., ..., 0., 0., 0.],\n",
       "       [0., 0., 0., ..., 0., 0., 0.]])"
      ]
     },
     "execution_count": 12,
     "metadata": {},
     "output_type": "execute_result"
    }
   ],
   "source": [
    "matrix"
   ]
  },
  {
   "cell_type": "code",
   "execution_count": 13,
   "metadata": {
    "colab": {
     "base_uri": "https://localhost:8080/"
    },
    "id": "APtacKWt9sF2",
    "outputId": "ffdafb68-0e05-4b45-e43d-8797dd74661f"
   },
   "outputs": [
    {
     "data": {
      "text/plain": [
       "(53424, 10000)"
      ]
     },
     "execution_count": 13,
     "metadata": {},
     "output_type": "execute_result"
    }
   ],
   "source": [
    "matrix.shape"
   ]
  },
  {
   "cell_type": "code",
   "execution_count": 14,
   "metadata": {
    "colab": {
     "base_uri": "https://localhost:8080/"
    },
    "id": "v1kaaMk29s-i",
    "outputId": "99db4da8-adfb-430c-fe7d-cdc240615ff5"
   },
   "outputs": [
    {
     "data": {
      "text/plain": [
       "(53424,)"
      ]
     },
     "execution_count": 14,
     "metadata": {},
     "output_type": "execute_result"
    }
   ],
   "source": [
    "user_log_mean.shape"
   ]
  },
  {
   "cell_type": "code",
   "execution_count": 15,
   "metadata": {
    "colab": {
     "base_uri": "https://localhost:8080/"
    },
    "id": "W9WREkhj9uIa",
    "outputId": "53aafc96-7fdc-4037-e481-b619f25210ce"
   },
   "outputs": [
    {
     "data": {
      "text/plain": [
       "(53424, 10000)"
      ]
     },
     "execution_count": 15,
     "metadata": {},
     "output_type": "execute_result"
    }
   ],
   "source": [
    "matrix_user_mean.shape"
   ]
  },
  {
   "cell_type": "code",
   "execution_count": 16,
   "metadata": {
    "colab": {
     "base_uri": "https://localhost:8080/",
     "height": 256
    },
    "id": "DaA6ReW79vx6",
    "outputId": "d4130daa-fe16-4fa0-c906-029cb7b1ca4a"
   },
   "outputs": [
    {
     "data": {
      "text/html": [
       "<div>\n",
       "<style scoped>\n",
       "    .dataframe tbody tr th:only-of-type {\n",
       "        vertical-align: middle;\n",
       "    }\n",
       "\n",
       "    .dataframe tbody tr th {\n",
       "        vertical-align: top;\n",
       "    }\n",
       "\n",
       "    .dataframe thead th {\n",
       "        text-align: right;\n",
       "    }\n",
       "</style>\n",
       "<table border=\"1\" class=\"dataframe\">\n",
       "  <thead>\n",
       "    <tr style=\"text-align: right;\">\n",
       "      <th>book_id</th>\n",
       "      <th>1</th>\n",
       "      <th>2</th>\n",
       "      <th>3</th>\n",
       "      <th>4</th>\n",
       "      <th>5</th>\n",
       "      <th>6</th>\n",
       "      <th>7</th>\n",
       "      <th>8</th>\n",
       "      <th>9</th>\n",
       "      <th>10</th>\n",
       "      <th>...</th>\n",
       "      <th>9991</th>\n",
       "      <th>9992</th>\n",
       "      <th>9993</th>\n",
       "      <th>9994</th>\n",
       "      <th>9995</th>\n",
       "      <th>9996</th>\n",
       "      <th>9997</th>\n",
       "      <th>9998</th>\n",
       "      <th>9999</th>\n",
       "      <th>10000</th>\n",
       "    </tr>\n",
       "  </thead>\n",
       "  <tbody>\n",
       "    <tr>\n",
       "      <th>0</th>\n",
       "      <td>-0.0011</td>\n",
       "      <td>-0.0011</td>\n",
       "      <td>-0.0011</td>\n",
       "      <td>-0.0011</td>\n",
       "      <td>-0.0011</td>\n",
       "      <td>-0.0011</td>\n",
       "      <td>-0.0011</td>\n",
       "      <td>-0.0011</td>\n",
       "      <td>-0.0011</td>\n",
       "      <td>-0.0011</td>\n",
       "      <td>...</td>\n",
       "      <td>-0.0011</td>\n",
       "      <td>-0.0011</td>\n",
       "      <td>-0.0011</td>\n",
       "      <td>-0.0011</td>\n",
       "      <td>-0.0011</td>\n",
       "      <td>-0.0011</td>\n",
       "      <td>-0.0011</td>\n",
       "      <td>-0.0011</td>\n",
       "      <td>-0.0011</td>\n",
       "      <td>-0.0011</td>\n",
       "    </tr>\n",
       "    <tr>\n",
       "      <th>1</th>\n",
       "      <td>-0.0013</td>\n",
       "      <td>-0.0013</td>\n",
       "      <td>-0.0013</td>\n",
       "      <td>-0.0013</td>\n",
       "      <td>-0.0013</td>\n",
       "      <td>-0.0013</td>\n",
       "      <td>-0.0013</td>\n",
       "      <td>-0.0013</td>\n",
       "      <td>-0.0013</td>\n",
       "      <td>-0.0013</td>\n",
       "      <td>...</td>\n",
       "      <td>-0.0013</td>\n",
       "      <td>-0.0013</td>\n",
       "      <td>-0.0013</td>\n",
       "      <td>-0.0013</td>\n",
       "      <td>-0.0013</td>\n",
       "      <td>-0.0013</td>\n",
       "      <td>-0.0013</td>\n",
       "      <td>-0.0013</td>\n",
       "      <td>-0.0013</td>\n",
       "      <td>-0.0013</td>\n",
       "    </tr>\n",
       "    <tr>\n",
       "      <th>2</th>\n",
       "      <td>-0.0002</td>\n",
       "      <td>-0.0002</td>\n",
       "      <td>-0.0002</td>\n",
       "      <td>-0.0002</td>\n",
       "      <td>-0.0002</td>\n",
       "      <td>-0.0002</td>\n",
       "      <td>-0.0002</td>\n",
       "      <td>-0.0002</td>\n",
       "      <td>-0.0002</td>\n",
       "      <td>-0.0002</td>\n",
       "      <td>...</td>\n",
       "      <td>-0.0002</td>\n",
       "      <td>-0.0002</td>\n",
       "      <td>-0.0002</td>\n",
       "      <td>-0.0002</td>\n",
       "      <td>-0.0002</td>\n",
       "      <td>-0.0002</td>\n",
       "      <td>-0.0002</td>\n",
       "      <td>-0.0002</td>\n",
       "      <td>-0.0002</td>\n",
       "      <td>-0.0002</td>\n",
       "    </tr>\n",
       "    <tr>\n",
       "      <th>3</th>\n",
       "      <td>-0.0012</td>\n",
       "      <td>-0.0012</td>\n",
       "      <td>-0.0012</td>\n",
       "      <td>-0.0012</td>\n",
       "      <td>-0.0012</td>\n",
       "      <td>-0.0012</td>\n",
       "      <td>-0.0012</td>\n",
       "      <td>-0.0012</td>\n",
       "      <td>-0.0012</td>\n",
       "      <td>-0.0012</td>\n",
       "      <td>...</td>\n",
       "      <td>-0.0012</td>\n",
       "      <td>-0.0012</td>\n",
       "      <td>-0.0012</td>\n",
       "      <td>-0.0012</td>\n",
       "      <td>-0.0012</td>\n",
       "      <td>-0.0012</td>\n",
       "      <td>-0.0012</td>\n",
       "      <td>-0.0012</td>\n",
       "      <td>-0.0012</td>\n",
       "      <td>-0.0012</td>\n",
       "    </tr>\n",
       "    <tr>\n",
       "      <th>4</th>\n",
       "      <td>-0.0021</td>\n",
       "      <td>-0.0021</td>\n",
       "      <td>-0.0021</td>\n",
       "      <td>-0.0021</td>\n",
       "      <td>-0.0021</td>\n",
       "      <td>-0.0021</td>\n",
       "      <td>-0.0021</td>\n",
       "      <td>-0.0021</td>\n",
       "      <td>-0.0021</td>\n",
       "      <td>-0.0021</td>\n",
       "      <td>...</td>\n",
       "      <td>-0.0021</td>\n",
       "      <td>-0.0021</td>\n",
       "      <td>-0.0021</td>\n",
       "      <td>-0.0021</td>\n",
       "      <td>-0.0021</td>\n",
       "      <td>-0.0021</td>\n",
       "      <td>-0.0021</td>\n",
       "      <td>-0.0021</td>\n",
       "      <td>-0.0021</td>\n",
       "      <td>-0.0021</td>\n",
       "    </tr>\n",
       "  </tbody>\n",
       "</table>\n",
       "<p>5 rows × 10000 columns</p>\n",
       "</div>"
      ],
      "text/plain": [
       "book_id   1       2       3       4       5       6       7       8      \\\n",
       "0       -0.0011 -0.0011 -0.0011 -0.0011 -0.0011 -0.0011 -0.0011 -0.0011   \n",
       "1       -0.0013 -0.0013 -0.0013 -0.0013 -0.0013 -0.0013 -0.0013 -0.0013   \n",
       "2       -0.0002 -0.0002 -0.0002 -0.0002 -0.0002 -0.0002 -0.0002 -0.0002   \n",
       "3       -0.0012 -0.0012 -0.0012 -0.0012 -0.0012 -0.0012 -0.0012 -0.0012   \n",
       "4       -0.0021 -0.0021 -0.0021 -0.0021 -0.0021 -0.0021 -0.0021 -0.0021   \n",
       "\n",
       "book_id   9       10     ...   9991    9992    9993    9994    9995    9996   \\\n",
       "0       -0.0011 -0.0011  ... -0.0011 -0.0011 -0.0011 -0.0011 -0.0011 -0.0011   \n",
       "1       -0.0013 -0.0013  ... -0.0013 -0.0013 -0.0013 -0.0013 -0.0013 -0.0013   \n",
       "2       -0.0002 -0.0002  ... -0.0002 -0.0002 -0.0002 -0.0002 -0.0002 -0.0002   \n",
       "3       -0.0012 -0.0012  ... -0.0012 -0.0012 -0.0012 -0.0012 -0.0012 -0.0012   \n",
       "4       -0.0021 -0.0021  ... -0.0021 -0.0021 -0.0021 -0.0021 -0.0021 -0.0021   \n",
       "\n",
       "book_id   9997    9998    9999    10000  \n",
       "0       -0.0011 -0.0011 -0.0011 -0.0011  \n",
       "1       -0.0013 -0.0013 -0.0013 -0.0013  \n",
       "2       -0.0002 -0.0002 -0.0002 -0.0002  \n",
       "3       -0.0012 -0.0012 -0.0012 -0.0012  \n",
       "4       -0.0021 -0.0021 -0.0021 -0.0021  \n",
       "\n",
       "[5 rows x 10000 columns]"
      ]
     },
     "execution_count": 16,
     "metadata": {},
     "output_type": "execute_result"
    }
   ],
   "source": [
    "pd.DataFrame(matrix_user_mean, columns = user_book_log.columns).head()"
   ]
  },
  {
   "cell_type": "code",
   "execution_count": 17,
   "metadata": {
    "id": "BBbDxv5Y9y66"
   },
   "outputs": [],
   "source": [
    "U, sigma, Vt = svds(matrix_user_mean, k = 12)"
   ]
  },
  {
   "cell_type": "code",
   "execution_count": 18,
   "metadata": {
    "colab": {
     "base_uri": "https://localhost:8080/"
    },
    "id": "3BuqVD4e-AEy",
    "outputId": "94d16ac3-6133-4b1e-d72b-754e28e57959"
   },
   "outputs": [
    {
     "name": "stdout",
     "output_type": "stream",
     "text": [
      "(53424, 12)\n",
      "(12,)\n",
      "(12, 10000)\n"
     ]
    }
   ],
   "source": [
    "\n",
    "\n",
    "print(U.shape)\n",
    "print(sigma.shape)\n",
    "print(Vt.shape)\n",
    "\n"
   ]
  },
  {
   "cell_type": "code",
   "execution_count": 19,
   "metadata": {
    "id": "WmZ4tCHE-Asb"
   },
   "outputs": [],
   "source": [
    "sigma = np.diag(sigma)"
   ]
  },
  {
   "cell_type": "code",
   "execution_count": 20,
   "metadata": {
    "colab": {
     "base_uri": "https://localhost:8080/"
    },
    "id": "DfQpCMWz-Bdt",
    "outputId": "1ddd0b95-90e7-4482-f781-fa382dcc06de"
   },
   "outputs": [
    {
     "data": {
      "text/plain": [
       "(12, 12)"
      ]
     },
     "execution_count": 20,
     "metadata": {},
     "output_type": "execute_result"
    }
   ],
   "source": [
    "sigma.shape"
   ]
  },
  {
   "cell_type": "code",
   "execution_count": 21,
   "metadata": {
    "colab": {
     "base_uri": "https://localhost:8080/"
    },
    "id": "3yrGVsc2-Cdy",
    "outputId": "3c64b517-f644-44e5-8079-47acedb3183b"
   },
   "outputs": [
    {
     "data": {
      "text/plain": [
       "array([182.42648687,   0.        ,   0.        ,   0.        ,\n",
       "         0.        ,   0.        ,   0.        ,   0.        ,\n",
       "         0.        ,   0.        ,   0.        ,   0.        ])"
      ]
     },
     "execution_count": 21,
     "metadata": {},
     "output_type": "execute_result"
    }
   ],
   "source": [
    "sigma[0]"
   ]
  },
  {
   "cell_type": "code",
   "execution_count": 22,
   "metadata": {
    "colab": {
     "base_uri": "https://localhost:8080/"
    },
    "id": "lf5UVnOt-Doy",
    "outputId": "1d99ef24-30c1-425c-f7b2-a363806f51bd"
   },
   "outputs": [
    {
     "data": {
      "text/plain": [
       "array([  0.        , 187.08179553,   0.        ,   0.        ,\n",
       "         0.        ,   0.        ,   0.        ,   0.        ,\n",
       "         0.        ,   0.        ,   0.        ,   0.        ])"
      ]
     },
     "execution_count": 22,
     "metadata": {},
     "output_type": "execute_result"
    }
   ],
   "source": [
    "sigma[1]"
   ]
  },
  {
   "cell_type": "code",
   "execution_count": 23,
   "metadata": {
    "id": "LsUuxdyJ-Oe6"
   },
   "outputs": [],
   "source": [
    "svd_user_predicted_log = np.dot(np.dot(U, sigma), Vt) + user_log_mean.reshape(-1, 1)"
   ]
  },
  {
   "cell_type": "code",
   "execution_count": 24,
   "metadata": {
    "id": "UZKJojK5-Wla"
   },
   "outputs": [
    {
     "data": {
      "text/html": [
       "<div>\n",
       "<style scoped>\n",
       "    .dataframe tbody tr th:only-of-type {\n",
       "        vertical-align: middle;\n",
       "    }\n",
       "\n",
       "    .dataframe tbody tr th {\n",
       "        vertical-align: top;\n",
       "    }\n",
       "\n",
       "    .dataframe thead th {\n",
       "        text-align: right;\n",
       "    }\n",
       "</style>\n",
       "<table border=\"1\" class=\"dataframe\">\n",
       "  <thead>\n",
       "    <tr style=\"text-align: right;\">\n",
       "      <th>book_id</th>\n",
       "      <th>1</th>\n",
       "      <th>2</th>\n",
       "      <th>3</th>\n",
       "      <th>4</th>\n",
       "      <th>5</th>\n",
       "      <th>6</th>\n",
       "      <th>7</th>\n",
       "      <th>8</th>\n",
       "      <th>9</th>\n",
       "      <th>10</th>\n",
       "      <th>...</th>\n",
       "      <th>9991</th>\n",
       "      <th>9992</th>\n",
       "      <th>9993</th>\n",
       "      <th>9994</th>\n",
       "      <th>9995</th>\n",
       "      <th>9996</th>\n",
       "      <th>9997</th>\n",
       "      <th>9998</th>\n",
       "      <th>9999</th>\n",
       "      <th>10000</th>\n",
       "    </tr>\n",
       "  </thead>\n",
       "  <tbody>\n",
       "    <tr>\n",
       "      <th>0</th>\n",
       "      <td>0.000150</td>\n",
       "      <td>0.000224</td>\n",
       "      <td>-0.000630</td>\n",
       "      <td>0.000683</td>\n",
       "      <td>0.000688</td>\n",
       "      <td>-0.001244</td>\n",
       "      <td>0.000233</td>\n",
       "      <td>-0.000239</td>\n",
       "      <td>0.000563</td>\n",
       "      <td>-0.000151</td>\n",
       "      <td>...</td>\n",
       "      <td>0.001925</td>\n",
       "      <td>0.001671</td>\n",
       "      <td>0.001796</td>\n",
       "      <td>0.001709</td>\n",
       "      <td>0.001715</td>\n",
       "      <td>0.001349</td>\n",
       "      <td>0.001859</td>\n",
       "      <td>0.001771</td>\n",
       "      <td>0.001852</td>\n",
       "      <td>0.001797</td>\n",
       "    </tr>\n",
       "    <tr>\n",
       "      <th>1</th>\n",
       "      <td>0.001039</td>\n",
       "      <td>0.001725</td>\n",
       "      <td>0.000468</td>\n",
       "      <td>0.001865</td>\n",
       "      <td>0.001764</td>\n",
       "      <td>-0.001533</td>\n",
       "      <td>0.001791</td>\n",
       "      <td>0.000911</td>\n",
       "      <td>0.001427</td>\n",
       "      <td>0.001171</td>\n",
       "      <td>...</td>\n",
       "      <td>0.002124</td>\n",
       "      <td>0.002126</td>\n",
       "      <td>0.002161</td>\n",
       "      <td>0.002275</td>\n",
       "      <td>0.001896</td>\n",
       "      <td>0.001702</td>\n",
       "      <td>0.002175</td>\n",
       "      <td>0.002152</td>\n",
       "      <td>0.002111</td>\n",
       "      <td>0.002189</td>\n",
       "    </tr>\n",
       "    <tr>\n",
       "      <th>2</th>\n",
       "      <td>0.000013</td>\n",
       "      <td>0.000150</td>\n",
       "      <td>0.000043</td>\n",
       "      <td>0.000173</td>\n",
       "      <td>0.000161</td>\n",
       "      <td>-0.000281</td>\n",
       "      <td>0.000172</td>\n",
       "      <td>0.000117</td>\n",
       "      <td>0.000117</td>\n",
       "      <td>0.000131</td>\n",
       "      <td>...</td>\n",
       "      <td>0.000347</td>\n",
       "      <td>0.000296</td>\n",
       "      <td>0.000346</td>\n",
       "      <td>0.000358</td>\n",
       "      <td>0.000328</td>\n",
       "      <td>0.000261</td>\n",
       "      <td>0.000356</td>\n",
       "      <td>0.000341</td>\n",
       "      <td>0.000340</td>\n",
       "      <td>0.000365</td>\n",
       "    </tr>\n",
       "    <tr>\n",
       "      <th>3</th>\n",
       "      <td>-0.002855</td>\n",
       "      <td>-0.003767</td>\n",
       "      <td>-0.003390</td>\n",
       "      <td>-0.003003</td>\n",
       "      <td>-0.002688</td>\n",
       "      <td>-0.001774</td>\n",
       "      <td>-0.003131</td>\n",
       "      <td>-0.003648</td>\n",
       "      <td>-0.001711</td>\n",
       "      <td>-0.004185</td>\n",
       "      <td>...</td>\n",
       "      <td>0.001498</td>\n",
       "      <td>0.001396</td>\n",
       "      <td>0.001303</td>\n",
       "      <td>0.000730</td>\n",
       "      <td>0.001595</td>\n",
       "      <td>0.000764</td>\n",
       "      <td>0.001450</td>\n",
       "      <td>0.001448</td>\n",
       "      <td>0.001376</td>\n",
       "      <td>0.001395</td>\n",
       "    </tr>\n",
       "    <tr>\n",
       "      <th>4</th>\n",
       "      <td>0.002192</td>\n",
       "      <td>0.002953</td>\n",
       "      <td>0.001490</td>\n",
       "      <td>0.003017</td>\n",
       "      <td>0.002885</td>\n",
       "      <td>-0.001369</td>\n",
       "      <td>0.002178</td>\n",
       "      <td>0.001878</td>\n",
       "      <td>0.002554</td>\n",
       "      <td>0.002302</td>\n",
       "      <td>...</td>\n",
       "      <td>0.003028</td>\n",
       "      <td>0.002948</td>\n",
       "      <td>0.003071</td>\n",
       "      <td>0.002937</td>\n",
       "      <td>0.002443</td>\n",
       "      <td>0.003622</td>\n",
       "      <td>0.003097</td>\n",
       "      <td>0.003094</td>\n",
       "      <td>0.003099</td>\n",
       "      <td>0.002972</td>\n",
       "    </tr>\n",
       "  </tbody>\n",
       "</table>\n",
       "<p>5 rows × 10000 columns</p>\n",
       "</div>"
      ],
      "text/plain": [
       "book_id     1         2         3         4         5         6         7      \\\n",
       "0        0.000150  0.000224 -0.000630  0.000683  0.000688 -0.001244  0.000233   \n",
       "1        0.001039  0.001725  0.000468  0.001865  0.001764 -0.001533  0.001791   \n",
       "2        0.000013  0.000150  0.000043  0.000173  0.000161 -0.000281  0.000172   \n",
       "3       -0.002855 -0.003767 -0.003390 -0.003003 -0.002688 -0.001774 -0.003131   \n",
       "4        0.002192  0.002953  0.001490  0.003017  0.002885 -0.001369  0.002178   \n",
       "\n",
       "book_id     8         9         10     ...     9991      9992      9993   \\\n",
       "0       -0.000239  0.000563 -0.000151  ...  0.001925  0.001671  0.001796   \n",
       "1        0.000911  0.001427  0.001171  ...  0.002124  0.002126  0.002161   \n",
       "2        0.000117  0.000117  0.000131  ...  0.000347  0.000296  0.000346   \n",
       "3       -0.003648 -0.001711 -0.004185  ...  0.001498  0.001396  0.001303   \n",
       "4        0.001878  0.002554  0.002302  ...  0.003028  0.002948  0.003071   \n",
       "\n",
       "book_id     9994      9995      9996      9997      9998      9999      10000  \n",
       "0        0.001709  0.001715  0.001349  0.001859  0.001771  0.001852  0.001797  \n",
       "1        0.002275  0.001896  0.001702  0.002175  0.002152  0.002111  0.002189  \n",
       "2        0.000358  0.000328  0.000261  0.000356  0.000341  0.000340  0.000365  \n",
       "3        0.000730  0.001595  0.000764  0.001450  0.001448  0.001376  0.001395  \n",
       "4        0.002937  0.002443  0.003622  0.003097  0.003094  0.003099  0.002972  \n",
       "\n",
       "[5 rows x 10000 columns]"
      ]
     },
     "execution_count": 24,
     "metadata": {},
     "output_type": "execute_result"
    }
   ],
   "source": [
    "df_svd_preds = pd.DataFrame(svd_user_predicted_log, columns = user_book_log.columns)\n",
    "df_svd_preds.head()"
   ]
  },
  {
   "cell_type": "code",
   "execution_count": null,
   "metadata": {
    "id": "gBCUs1KM-Zj6"
   },
   "outputs": [],
   "source": []
  },
  {
   "cell_type": "code",
   "execution_count": 25,
   "metadata": {
    "id": "OMb7pe2c-kdE"
   },
   "outputs": [
    {
     "data": {
      "text/plain": [
       "(53424, 10000)"
      ]
     },
     "execution_count": 25,
     "metadata": {},
     "output_type": "execute_result"
    }
   ],
   "source": [
    "df_svd_preds.shape"
   ]
  },
  {
   "cell_type": "code",
   "execution_count": 26,
   "metadata": {
    "id": "cpvUTR-Z-l9s"
   },
   "outputs": [],
   "source": [
    "def recommend_movies(df_svd_preds, user_Id, ori_books_df, ori_log_df, num_recommendations=5):\n",
    "  user_row_number = user_Id - 1 \n",
    "  sorted_user_predictions = df_svd_preds.iloc[user_row_number].sort_values(ascending=False)\n",
    "  user_data = ori_log_df[ori_log_df.user_id == user_Id]\n",
    "  user_history = user_data.merge(ori_books_df, on = 'book_id').sort_values(['rating'], ascending=False)\n",
    "  recommendations = ori_books_df[~ori_books_df['book_id'].isin(user_history['book_id'])]\n",
    "  recommendations = recommendations.merge( pd.DataFrame(sorted_user_predictions).reset_index(), on = 'book_id')\n",
    "  recommendations = recommendations.rename(columns = {user_row_number: 'Predictions'}).sort_values('Predictions', ascending = False).iloc[:num_recommendations, :]\n",
    "\n",
    "  return user_history, recommendations"
   ]
  },
  {
   "cell_type": "code",
   "execution_count": 27,
   "metadata": {
    "id": "7PKmtL4m_BQA"
   },
   "outputs": [],
   "source": [
    "already_rated, predictions = recommend_movies(df_svd_preds, 330, book_data, log_data, 10)"
   ]
  },
  {
   "cell_type": "code",
   "execution_count": 28,
   "metadata": {},
   "outputs": [
    {
     "data": {
      "text/html": [
       "<div>\n",
       "<style scoped>\n",
       "    .dataframe tbody tr th:only-of-type {\n",
       "        vertical-align: middle;\n",
       "    }\n",
       "\n",
       "    .dataframe tbody tr th {\n",
       "        vertical-align: top;\n",
       "    }\n",
       "\n",
       "    .dataframe thead th {\n",
       "        text-align: right;\n",
       "    }\n",
       "</style>\n",
       "<table border=\"1\" class=\"dataframe\">\n",
       "  <thead>\n",
       "    <tr style=\"text-align: right;\">\n",
       "      <th></th>\n",
       "      <th>user_id</th>\n",
       "      <th>book_id</th>\n",
       "      <th>rating</th>\n",
       "      <th>authors</th>\n",
       "      <th>title</th>\n",
       "      <th>small_image_url</th>\n",
       "    </tr>\n",
       "  </thead>\n",
       "  <tbody>\n",
       "  </tbody>\n",
       "</table>\n",
       "</div>"
      ],
      "text/plain": [
       "Empty DataFrame\n",
       "Columns: [user_id, book_id, rating, authors, title, small_image_url]\n",
       "Index: []"
      ]
     },
     "execution_count": 28,
     "metadata": {},
     "output_type": "execute_result"
    }
   ],
   "source": [
    "already_rated.head(10)"
   ]
  },
  {
   "cell_type": "code",
   "execution_count": 29,
   "metadata": {},
   "outputs": [
    {
     "data": {
      "text/html": [
       "<div>\n",
       "<style scoped>\n",
       "    .dataframe tbody tr th:only-of-type {\n",
       "        vertical-align: middle;\n",
       "    }\n",
       "\n",
       "    .dataframe tbody tr th {\n",
       "        vertical-align: top;\n",
       "    }\n",
       "\n",
       "    .dataframe thead th {\n",
       "        text-align: right;\n",
       "    }\n",
       "</style>\n",
       "<table border=\"1\" class=\"dataframe\">\n",
       "  <thead>\n",
       "    <tr style=\"text-align: right;\">\n",
       "      <th></th>\n",
       "      <th>book_id</th>\n",
       "      <th>authors</th>\n",
       "      <th>title</th>\n",
       "      <th>small_image_url</th>\n",
       "      <th>Predictions</th>\n",
       "    </tr>\n",
       "  </thead>\n",
       "  <tbody>\n",
       "    <tr>\n",
       "      <th>472</th>\n",
       "      <td>5181</td>\n",
       "      <td>Bret Lott</td>\n",
       "      <td>Jewel</td>\n",
       "      <td>https://s.gr-assets.com/assets/nophoto/book/50...</td>\n",
       "      <td>0.001835</td>\n",
       "    </tr>\n",
       "    <tr>\n",
       "      <th>616</th>\n",
       "      <td>5752</td>\n",
       "      <td>Steven Pinker</td>\n",
       "      <td>The Blank Slate: The Modern Denial of Human Na...</td>\n",
       "      <td>https://s.gr-assets.com/assets/nophoto/book/50...</td>\n",
       "      <td>0.001785</td>\n",
       "    </tr>\n",
       "    <tr>\n",
       "      <th>707</th>\n",
       "      <td>4507</td>\n",
       "      <td>Julie Gregory</td>\n",
       "      <td>Sickened: The Memoir of a Munchausen by Proxy ...</td>\n",
       "      <td>https://s.gr-assets.com/assets/nophoto/book/50...</td>\n",
       "      <td>0.001716</td>\n",
       "    </tr>\n",
       "    <tr>\n",
       "      <th>258</th>\n",
       "      <td>5204</td>\n",
       "      <td>Joyce Carol Oates</td>\n",
       "      <td>We Were the Mulvaneys</td>\n",
       "      <td>https://images.gr-assets.com/books/1309282868s...</td>\n",
       "      <td>0.001662</td>\n",
       "    </tr>\n",
       "    <tr>\n",
       "      <th>337</th>\n",
       "      <td>4325</td>\n",
       "      <td>Sarah Dessen</td>\n",
       "      <td>Dreamland</td>\n",
       "      <td>https://images.gr-assets.com/books/1385861832s...</td>\n",
       "      <td>0.001639</td>\n",
       "    </tr>\n",
       "    <tr>\n",
       "      <th>175</th>\n",
       "      <td>2526</td>\n",
       "      <td>José Saramago, Giovanni Pontiero</td>\n",
       "      <td>Blindness</td>\n",
       "      <td>https://images.gr-assets.com/books/1327866409s...</td>\n",
       "      <td>0.001634</td>\n",
       "    </tr>\n",
       "    <tr>\n",
       "      <th>270</th>\n",
       "      <td>4952</td>\n",
       "      <td>Dave Eggers</td>\n",
       "      <td>What Is the What</td>\n",
       "      <td>https://images.gr-assets.com/books/1328837457s...</td>\n",
       "      <td>0.001538</td>\n",
       "    </tr>\n",
       "    <tr>\n",
       "      <th>468</th>\n",
       "      <td>3977</td>\n",
       "      <td>Dan Simmons</td>\n",
       "      <td>Endymion (Hyperion Cantos, #3)</td>\n",
       "      <td>https://images.gr-assets.com/books/1329611385s...</td>\n",
       "      <td>0.001487</td>\n",
       "    </tr>\n",
       "    <tr>\n",
       "      <th>138</th>\n",
       "      <td>5113</td>\n",
       "      <td>J.D. Salinger</td>\n",
       "      <td>Franny and Zooey</td>\n",
       "      <td>https://images.gr-assets.com/books/1355037988s...</td>\n",
       "      <td>0.001473</td>\n",
       "    </tr>\n",
       "    <tr>\n",
       "      <th>349</th>\n",
       "      <td>3679</td>\n",
       "      <td>Zadie Smith</td>\n",
       "      <td>On Beauty</td>\n",
       "      <td>https://images.gr-assets.com/books/1495961870s...</td>\n",
       "      <td>0.001468</td>\n",
       "    </tr>\n",
       "  </tbody>\n",
       "</table>\n",
       "</div>"
      ],
      "text/plain": [
       "     book_id                           authors  \\\n",
       "472     5181                         Bret Lott   \n",
       "616     5752                     Steven Pinker   \n",
       "707     4507                     Julie Gregory   \n",
       "258     5204                 Joyce Carol Oates   \n",
       "337     4325                      Sarah Dessen   \n",
       "175     2526  José Saramago, Giovanni Pontiero   \n",
       "270     4952                       Dave Eggers   \n",
       "468     3977                       Dan Simmons   \n",
       "138     5113                     J.D. Salinger   \n",
       "349     3679                       Zadie Smith   \n",
       "\n",
       "                                                 title  \\\n",
       "472                                              Jewel   \n",
       "616  The Blank Slate: The Modern Denial of Human Na...   \n",
       "707  Sickened: The Memoir of a Munchausen by Proxy ...   \n",
       "258                              We Were the Mulvaneys   \n",
       "337                                          Dreamland   \n",
       "175                                          Blindness   \n",
       "270                                   What Is the What   \n",
       "468                     Endymion (Hyperion Cantos, #3)   \n",
       "138                                   Franny and Zooey   \n",
       "349                                          On Beauty   \n",
       "\n",
       "                                       small_image_url  Predictions  \n",
       "472  https://s.gr-assets.com/assets/nophoto/book/50...     0.001835  \n",
       "616  https://s.gr-assets.com/assets/nophoto/book/50...     0.001785  \n",
       "707  https://s.gr-assets.com/assets/nophoto/book/50...     0.001716  \n",
       "258  https://images.gr-assets.com/books/1309282868s...     0.001662  \n",
       "337  https://images.gr-assets.com/books/1385861832s...     0.001639  \n",
       "175  https://images.gr-assets.com/books/1327866409s...     0.001634  \n",
       "270  https://images.gr-assets.com/books/1328837457s...     0.001538  \n",
       "468  https://images.gr-assets.com/books/1329611385s...     0.001487  \n",
       "138  https://images.gr-assets.com/books/1355037988s...     0.001473  \n",
       "349  https://images.gr-assets.com/books/1495961870s...     0.001468  "
      ]
     },
     "execution_count": 29,
     "metadata": {},
     "output_type": "execute_result"
    }
   ],
   "source": [
    "predictions"
   ]
  },
  {
   "cell_type": "code",
   "execution_count": 30,
   "metadata": {},
   "outputs": [
    {
     "name": "stdout",
     "output_type": "stream",
     "text": [
      "WorkingTime: 43.487653970718384 sec\n"
     ]
    }
   ],
   "source": [
    "end_time = time.time()\n",
    "print(\"WorkingTime: {} sec\".format(end_time-start_time))"
   ]
  }
 ],
 "metadata": {
  "colab": {
   "collapsed_sections": [],
   "name": "Untitled17.ipynb",
   "provenance": []
  },
  "kernelspec": {
   "display_name": "Python 3",
   "language": "python",
   "name": "python3"
  },
  "language_info": {
   "codemirror_mode": {
    "name": "ipython",
    "version": 3
   },
   "file_extension": ".py",
   "mimetype": "text/x-python",
   "name": "python",
   "nbconvert_exporter": "python",
   "pygments_lexer": "ipython3",
   "version": "3.8.5"
  }
 },
 "nbformat": 4,
 "nbformat_minor": 1
}
